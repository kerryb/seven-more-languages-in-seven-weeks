{
 "cells": [
  {
   "cell_type": "code",
   "execution_count": 5,
   "id": "585af8a7-805d-4a95-9d47-3820cda27bfb",
   "metadata": {},
   "outputs": [
    {
     "data": {
      "text/plain": [
       "Int64"
      ]
     },
     "execution_count": 5,
     "metadata": {},
     "output_type": "execute_result"
    }
   ],
   "source": [
    "typeof(42)"
   ]
  },
  {
   "cell_type": "code",
   "execution_count": 2,
   "id": "41cd26fd-fb3d-45bb-bdf4-52378e69433f",
   "metadata": {},
   "outputs": [
    {
     "data": {
      "text/plain": [
       "String"
      ]
     },
     "execution_count": 2,
     "metadata": {},
     "output_type": "execute_result"
    }
   ],
   "source": [
    "typeof(\"foo\")"
   ]
  },
  {
   "cell_type": "code",
   "execution_count": 6,
   "id": "5f0818bb-615f-4d1f-a749-adb94049b3f1",
   "metadata": {},
   "outputs": [
    {
     "data": {
      "text/plain": [
       "typeof(+) (singleton type of function +, subtype of Function)"
      ]
     },
     "execution_count": 6,
     "metadata": {},
     "output_type": "execute_result"
    }
   ],
   "source": [
    "typeof(+)"
   ]
  },
  {
   "cell_type": "code",
   "execution_count": 8,
   "id": "53964ae9-2dae-4f06-b305-b33fe27b3d4e",
   "metadata": {},
   "outputs": [
    {
     "data": {
      "text/plain": [
       "Dict{Symbol, Float64} with 2 entries:\n",
       "  :a => 1.2\n",
       "  :b => 3.4"
      ]
     },
     "execution_count": 8,
     "metadata": {},
     "output_type": "execute_result"
    }
   ],
   "source": [
    "dict = Dict(:a => 1.2, :b => 3.4)"
   ]
  },
  {
   "cell_type": "code",
   "execution_count": 13,
   "id": "9db571b4-8323-4abe-b388-af5652e87ed7",
   "metadata": {},
   "outputs": [
    {
     "data": {
      "text/plain": [
       "Dict{Symbol, Float64} with 3 entries:\n",
       "  :a => 1.2\n",
       "  :b => 3.4\n",
       "  :c => 5.6"
      ]
     },
     "execution_count": 13,
     "metadata": {},
     "output_type": "execute_result"
    }
   ],
   "source": [
    "merge(dict, Dict(:c => 5.6))"
   ]
  },
  {
   "cell_type": "code",
   "execution_count": 15,
   "id": "7e885509-57a7-4838-b300-6350dc5fc838",
   "metadata": {},
   "outputs": [
    {
     "data": {
      "text/plain": [
       "Dict{Symbol, Any} with 3 entries:\n",
       "  :a      => 1.2\n",
       "  :b      => 3.4\n",
       "  :thisis => :notanumber"
      ]
     },
     "execution_count": 15,
     "metadata": {},
     "output_type": "execute_result"
    }
   ],
   "source": [
    "merge(dict, Dict(:thisis => :notanumber))"
   ]
  },
  {
   "cell_type": "code",
   "execution_count": 18,
   "id": "475f8e7d-c6aa-4db9-96eb-1828b693f774",
   "metadata": {},
   "outputs": [
    {
     "data": {
      "text/plain": [
       "Dict{Symbol, Float64} with 3 entries:\n",
       "  :a => 1.2\n",
       "  :b => 3.4\n",
       "  :c => 5.6"
      ]
     },
     "execution_count": 18,
     "metadata": {},
     "output_type": "execute_result"
    }
   ],
   "source": [
    "dict[:c] = 5.6\n",
    "dict"
   ]
  },
  {
   "cell_type": "code",
   "execution_count": 19,
   "id": "a29c81b0-2144-41d2-8a1c-44456cc1b1b4",
   "metadata": {},
   "outputs": [
    {
     "ename": "LoadError",
     "evalue": "MethodError: \u001b[0mCannot `convert` an object of type \u001b[92mSymbol\u001b[39m\u001b[0m to an object of type \u001b[91mFloat64\u001b[39m\nThe function `convert` exists, but no method is defined for this combination of argument types.\n\n\u001b[0mClosest candidates are:\n\u001b[0m  convert(::Type{T}, \u001b[91m::T\u001b[39m) where T<:Number\n\u001b[0m\u001b[90m   @\u001b[39m \u001b[90mBase\u001b[39m \u001b[90m\u001b[4mnumber.jl:6\u001b[24m\u001b[39m\n\u001b[0m  convert(::Type{T}, \u001b[91m::T\u001b[39m) where T\n\u001b[0m\u001b[90m   @\u001b[39m \u001b[90mBase\u001b[39m \u001b[90m\u001b[4mBase.jl:126\u001b[24m\u001b[39m\n\u001b[0m  convert(::Type{T}, \u001b[91m::AbstractChar\u001b[39m) where T<:Number\n\u001b[0m\u001b[90m   @\u001b[39m \u001b[90mBase\u001b[39m \u001b[90m\u001b[4mchar.jl:185\u001b[24m\u001b[39m\n\u001b[0m  ...\n",
     "output_type": "error",
     "traceback": [
      "MethodError: \u001b[0mCannot `convert` an object of type \u001b[92mSymbol\u001b[39m\u001b[0m to an object of type \u001b[91mFloat64\u001b[39m\nThe function `convert` exists, but no method is defined for this combination of argument types.\n\n\u001b[0mClosest candidates are:\n\u001b[0m  convert(::Type{T}, \u001b[91m::T\u001b[39m) where T<:Number\n\u001b[0m\u001b[90m   @\u001b[39m \u001b[90mBase\u001b[39m \u001b[90m\u001b[4mnumber.jl:6\u001b[24m\u001b[39m\n\u001b[0m  convert(::Type{T}, \u001b[91m::T\u001b[39m) where T\n\u001b[0m\u001b[90m   @\u001b[39m \u001b[90mBase\u001b[39m \u001b[90m\u001b[4mBase.jl:126\u001b[24m\u001b[39m\n\u001b[0m  convert(::Type{T}, \u001b[91m::AbstractChar\u001b[39m) where T<:Number\n\u001b[0m\u001b[90m   @\u001b[39m \u001b[90mBase\u001b[39m \u001b[90m\u001b[4mchar.jl:185\u001b[24m\u001b[39m\n\u001b[0m  ...\n",
      "",
      "Stacktrace:",
      " [1] setindex!(h::Dict{Symbol, Float64}, v0::Symbol, key::Symbol)",
      "   @ Base ./dict.jl:355",
      " [2] top-level scope",
      "   @ In[19]:1"
     ]
    }
   ],
   "source": [
    "dict[:thisis] = :notanumber\n",
    "dict"
   ]
  },
  {
   "cell_type": "code",
   "execution_count": 32,
   "id": "ecfc24a2-84e1-49aa-8805-15aa396b5905",
   "metadata": {},
   "outputs": [
    {
     "data": {
      "text/plain": [
       "5×5×5 Array{Tuple{Int64, Int64, Int64}, 3}:\n",
       "[:, :, 1] =\n",
       " (1, 1, 1)  (1, 1, 1)  (1, 1, 1)  (1, 1, 1)  (1, 1, 1)\n",
       " (1, 1, 1)  (1, 1, 1)  (1, 1, 1)  (1, 1, 1)  (1, 1, 1)\n",
       " (1, 1, 1)  (1, 1, 1)  (1, 1, 1)  (1, 1, 1)  (1, 1, 1)\n",
       " (1, 1, 1)  (1, 1, 1)  (1, 1, 1)  (1, 1, 1)  (1, 1, 1)\n",
       " (1, 1, 1)  (1, 1, 1)  (1, 1, 1)  (1, 1, 1)  (1, 1, 1)\n",
       "\n",
       "[:, :, 2] =\n",
       " (1, 1, 2)  (1, 1, 2)  (1, 1, 2)  (1, 1, 2)  (1, 1, 2)\n",
       " (1, 1, 2)  (1, 1, 2)  (1, 1, 2)  (1, 1, 2)  (1, 1, 2)\n",
       " (1, 1, 2)  (1, 1, 2)  (1, 1, 2)  (1, 1, 2)  (1, 1, 2)\n",
       " (1, 1, 2)  (1, 1, 2)  (1, 1, 2)  (1, 1, 2)  (1, 1, 2)\n",
       " (1, 1, 2)  (1, 1, 2)  (1, 1, 2)  (1, 1, 2)  (1, 1, 2)\n",
       "\n",
       "[:, :, 3] =\n",
       " (1, 1, 3)  (1, 1, 3)  (1, 1, 3)  (1, 1, 3)  (1, 1, 3)\n",
       " (1, 1, 3)  (1, 1, 3)  (1, 1, 3)  (1, 1, 3)  (1, 1, 3)\n",
       " (1, 1, 3)  (1, 1, 3)  (1, 1, 3)  (1, 1, 3)  (1, 1, 3)\n",
       " (1, 1, 3)  (1, 1, 3)  (1, 1, 3)  (1, 1, 3)  (1, 1, 3)\n",
       " (1, 1, 3)  (1, 1, 3)  (1, 1, 3)  (1, 1, 3)  (1, 1, 3)\n",
       "\n",
       "[:, :, 4] =\n",
       " (1, 1, 4)  (1, 1, 4)  (1, 1, 4)  (1, 1, 4)  (1, 1, 4)\n",
       " (1, 1, 4)  (1, 1, 4)  (1, 1, 4)  (1, 1, 4)  (1, 1, 4)\n",
       " (1, 1, 4)  (1, 1, 4)  (1, 1, 4)  (1, 1, 4)  (1, 1, 4)\n",
       " (1, 1, 4)  (1, 1, 4)  (1, 1, 4)  (1, 1, 4)  (1, 1, 4)\n",
       " (1, 1, 4)  (1, 1, 4)  (1, 1, 4)  (1, 1, 4)  (1, 1, 4)\n",
       "\n",
       "[:, :, 5] =\n",
       " (1, 1, 5)  (1, 1, 5)  (1, 1, 5)  (1, 1, 5)  (1, 1, 5)\n",
       " (1, 1, 5)  (1, 1, 5)  (1, 1, 5)  (1, 1, 5)  (1, 1, 5)\n",
       " (1, 1, 5)  (1, 1, 5)  (1, 1, 5)  (1, 1, 5)  (1, 1, 5)\n",
       " (1, 1, 5)  (1, 1, 5)  (1, 1, 5)  (1, 1, 5)  (1, 1, 5)\n",
       " (1, 1, 5)  (1, 1, 5)  (1, 1, 5)  (1, 1, 5)  (1, 1, 5)"
      ]
     },
     "execution_count": 32,
     "metadata": {},
     "output_type": "execute_result"
    }
   ],
   "source": [
    "[ (x, y, z) for x=[1, 1, 1, 1, 1], y=[1, 1, 1, 1, 1], z=1:5 ]"
   ]
  }
 ],
 "metadata": {
  "kernelspec": {
   "display_name": "Julia 1.11.4",
   "language": "julia",
   "name": "julia-1.11"
  },
  "language_info": {
   "file_extension": ".jl",
   "mimetype": "application/julia",
   "name": "julia",
   "version": "1.11.4"
  }
 },
 "nbformat": 4,
 "nbformat_minor": 5
}
